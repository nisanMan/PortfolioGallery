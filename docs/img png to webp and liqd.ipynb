{
 "cells": [
  {
   "cell_type": "code",
   "execution_count": 1,
   "id": "d9a1192f",
   "metadata": {},
   "outputs": [
    {
     "name": "stdout",
     "output_type": "stream",
     "text": [
      "\n",
      "<img class=\"lazy-img\"\n",
      "     src=\"data:image/webp;base64,UklGRqwAAABXRUJQVlA4IKAAAACQBACdASoUAAsAPm0skUWkIqGYBABABsSgCdMoMYLIBz/4DyTRxuxtCmrX1tAA/vCna/G73GB/pdnY23pAwkfN000+WuZqOShq506oqkTq6B/WyM6y4fROrbeQTEG/ZXL11T/NxBGfrgDG/gRJu7uea2fl6Bxti34BAId/CcH6gqQKaKtRFTIkrj+MonK/xkeDaU+gFDjptzhdEYHmGAAA\"\n",
      "     data-src=\"output/day.webp\"\n",
      "     alt=\"day.png\"\n",
      "     loading=\"lazy\">\n",
      "\n",
      "\n",
      "<img class=\"lazy-img\"\n",
      "     src=\"data:image/webp;base64,UklGRmwAAABXRUJQVlA4IGAAAADwAwCdASoUAAsAPm0sk0YkIqGhMAgAgA2JZwC7AB6JBTrfhf+C2KAoAP7vL1DW/2ltDbPwtjdiDYlS8QDKhV8vmF2YOkU5Vl+Pklg/xfHbTJI6tw+qO2aOZEqSTM6gAAA=\"\n",
      "     data-src=\"output/night.webp\"\n",
      "     alt=\"night.png\"\n",
      "     loading=\"lazy\">\n",
      "\n"
     ]
    }
   ],
   "source": [
    "from PIL import Image\n",
    "import os\n",
    "import base64\n",
    "import io\n",
    "\n",
    "input_folder = \"images\"\n",
    "output_folder = \"output\"\n",
    "\n",
    "os.makedirs(output_folder, exist_ok=True)\n",
    "\n",
    "def convert_to_webp(input_path, output_path):\n",
    "    with Image.open(input_path) as img:\n",
    "        img.save(output_path, \"WEBP\")\n",
    "\n",
    "def generate_lqip_base64(image_path, output_size=(20, 20)):\n",
    "    img = Image.open(image_path).convert(\"RGB\")\n",
    "    img.thumbnail(output_size)\n",
    "    buffer = io.BytesIO()\n",
    "    img.save(buffer, format=\"WEBP\")\n",
    "    buffer.seek(0)\n",
    "    img_base64 = base64.b64encode(buffer.read()).decode(\"utf-8\")\n",
    "    return f\"data:image/webp;base64,{img_base64}\"\n",
    "\n",
    "for filename in os.listdir(input_folder):\n",
    "    if filename.lower().endswith(\".png\"):\n",
    "        input_path = os.path.join(input_folder, filename)\n",
    "        output_filename = os.path.splitext(filename)[0] + \".webp\"\n",
    "        output_path = os.path.join(output_folder, output_filename)\n",
    "\n",
    "        convert_to_webp(input_path, output_path)\n",
    "        base64_placeholder = generate_lqip_base64(output_path)\n",
    "\n",
    "        html_tag = f'''\n",
    "<img class=\"lazy-img\"\n",
    "     src=\"{base64_placeholder}\"\n",
    "     data-src=\"output/{output_filename}\"\n",
    "     alt=\"{filename}\"\n",
    "     loading=\"lazy\">\n",
    "'''\n",
    "        print(html_tag)"
   ]
  },
  {
   "cell_type": "markdown",
   "id": "57132729",
   "metadata": {},
   "source": [
    "# add to  the CSS:\n",
    "```css\n",
    ".lazy-img {\n",
    "    filter: blur(10px);\n",
    "    transition: filter 0.1s ease;\n",
    "}\n",
    "```\n",
    "# add to JS:\n",
    "```js\n",
    "document.addEventListener(\"DOMContentLoaded\", () => {\n",
    "  document.querySelectorAll(\".lazy-img\").forEach(img => {\n",
    "    const realSrc = img.dataset.src;\n",
    "    const newImg = new Image();\n",
    "    newImg.src = realSrc;\n",
    "    newImg.onload = () => {\n",
    "      img.src = realSrc;\n",
    "      img.style.filter = \"none\";\n",
    "    };\n",
    "  });\n",
    "});\n",
    "```"
   ]
  },
  {
   "cell_type": "code",
   "execution_count": null,
   "id": "3c5cbb4e",
   "metadata": {},
   "outputs": [],
   "source": []
  },
  {
   "cell_type": "code",
   "execution_count": null,
   "id": "0068c846",
   "metadata": {},
   "outputs": [],
   "source": []
  }
 ],
 "metadata": {
  "kernelspec": {
   "display_name": "Python 3 (ipykernel)",
   "language": "python",
   "name": "python3"
  },
  "language_info": {
   "codemirror_mode": {
    "name": "ipython",
    "version": 3
   },
   "file_extension": ".py",
   "mimetype": "text/x-python",
   "name": "python",
   "nbconvert_exporter": "python",
   "pygments_lexer": "ipython3",
   "version": "3.10.13"
  }
 },
 "nbformat": 4,
 "nbformat_minor": 5
}
